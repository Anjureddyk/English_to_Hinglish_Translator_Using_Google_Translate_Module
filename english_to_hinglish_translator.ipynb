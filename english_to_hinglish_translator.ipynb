{
 "cells": [
  {
   "cell_type": "code",
   "execution_count": 1,
   "id": "c855c0bc",
   "metadata": {},
   "outputs": [
    {
     "name": "stdout",
     "output_type": "stream",
     "text": [
      "1. comment सेक्शन में अपना comment और feedback ज़रूर शेयर करें।\n",
      "2. इसलिए भले ही यह एक बड़ा video हो, मैं clear से सभी products का mention करूंगा।\n",
      "3. मैं अपने bag काwait कर रही थी।\n"
     ]
    }
   ],
   "source": [
    "from translate import Translator\n",
    "\n",
    "# English sentences\n",
    "sentences = [\n",
    "    \"Definitely share your comment and feedback in the comment section.\",\n",
    "    \"So even if it's a big video, I will clearly mention all the products.\",\n",
    "    \"I was waiting for my bag.\"\n",
    "]\n",
    "\n",
    "# Translate sentences to Hindi\n",
    "translator = Translator(to_lang=\"hi\")\n",
    "translated_sentences = [translator.translate(sentence) for sentence in sentences]\n",
    "\n",
    "# Manually replace specific words in the first translated sentence\n",
    "translated_sentences[0] = translated_sentences[0].replace(\"कमेंट\", \"comment\").replace(\"फ़ीडबैक\", \"feedback\")\n",
    "translated_sentences[1] = translated_sentences[1].replace(\"वीडियो\", \"video\").replace(\"स्पष्ट रूप\",\"clear\").replace(\"उत्पादों\", \"products\").replace(\"उल्लेख\",\"mention\")\n",
    "translated_sentences[2] = translated_sentences[2].replace(\"बैग\", \"bag\").replace(\" इंतजार\",\"wait\")\n",
    "\n",
    "\n",
    "# Print the translated sentences\n",
    "for i, sentence in enumerate(translated_sentences, start=1):\n",
    "    print(f\"{i}. {sentence}\")"
   ]
  },
  {
   "cell_type": "code",
   "execution_count": null,
   "id": "c52a8652",
   "metadata": {},
   "outputs": [],
   "source": []
  }
 ],
 "metadata": {
  "kernelspec": {
   "display_name": "Python 3 (ipykernel)",
   "language": "python",
   "name": "python3"
  },
  "language_info": {
   "codemirror_mode": {
    "name": "ipython",
    "version": 3
   },
   "file_extension": ".py",
   "mimetype": "text/x-python",
   "name": "python",
   "nbconvert_exporter": "python",
   "pygments_lexer": "ipython3",
   "version": "3.10.9"
  }
 },
 "nbformat": 4,
 "nbformat_minor": 5
}
